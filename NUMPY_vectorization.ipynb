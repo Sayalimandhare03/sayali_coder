{
 "cells": [
  {
   "cell_type": "markdown",
   "id": "5473a6ec-1c48-4041-9eb3-f92f72b39a83",
   "metadata": {},
   "source": [
    "#vectorization & selection in an array"
   ]
  },
  {
   "cell_type": "code",
   "execution_count": 3,
   "id": "a657c1f1-5661-42ba-9e04-cc75db26cc9e",
   "metadata": {},
   "outputs": [
    {
     "data": {
      "text/plain": [
       "[1, 2, 3, 4, 5, 6, 7, 8, 9, 10]"
      ]
     },
     "execution_count": 3,
     "metadata": {},
     "output_type": "execute_result"
    }
   ],
   "source": [
    "x= list(range(1,11))\n",
    "x"
   ]
  },
  {
   "cell_type": "code",
   "execution_count": 4,
   "id": "590d4106-966b-472c-93b3-d6354792d6e3",
   "metadata": {},
   "outputs": [
    {
     "data": {
      "text/plain": [
       "[1, 2, 3, 4, 5, 6, 7, 8, 9, 10, 1, 2, 3, 4, 5, 6, 7, 8, 9, 10]"
      ]
     },
     "execution_count": 4,
     "metadata": {},
     "output_type": "execute_result"
    }
   ],
   "source": [
    "x*2 #replication"
   ]
  },
  {
   "cell_type": "code",
   "execution_count": 5,
   "id": "6a0e72fb-d055-4cfd-b398-2fc6b79de558",
   "metadata": {},
   "outputs": [],
   "source": [
    "import numpy as np "
   ]
  },
  {
   "cell_type": "code",
   "execution_count": 6,
   "id": "a45f3bb2-6fb1-4fce-a7f8-45ba9982c955",
   "metadata": {},
   "outputs": [
    {
     "data": {
      "text/plain": [
       "array([ 1,  2,  3,  4,  5,  6,  7,  8,  9, 10])"
      ]
     },
     "execution_count": 6,
     "metadata": {},
     "output_type": "execute_result"
    }
   ],
   "source": [
    "a = np.arange(1,11)\n",
    "a"
   ]
  },
  {
   "cell_type": "code",
   "execution_count": 7,
   "id": "ef017e8b-a76c-485d-b774-8d2c6a311576",
   "metadata": {},
   "outputs": [
    {
     "data": {
      "text/plain": [
       "array([ 2,  4,  6,  8, 10, 12, 14, 16, 18, 20])"
      ]
     },
     "execution_count": 7,
     "metadata": {},
     "output_type": "execute_result"
    }
   ],
   "source": [
    "a*2"
   ]
  },
  {
   "cell_type": "code",
   "execution_count": 8,
   "id": "18f9ed07-5217-4b7d-b4ee-c8e0a3b1a1c4",
   "metadata": {},
   "outputs": [
    {
     "data": {
      "text/plain": [
       "array([101, 102, 103, 104, 105, 106, 107, 108, 109, 110])"
      ]
     },
     "execution_count": 8,
     "metadata": {},
     "output_type": "execute_result"
    }
   ],
   "source": [
    "a+100"
   ]
  },
  {
   "cell_type": "code",
   "execution_count": 9,
   "id": "68e6bb44-08ef-4aec-a6de-9feb92934f59",
   "metadata": {},
   "outputs": [
    {
     "data": {
      "text/plain": [
       "array([ 1,  2,  3,  4,  5,  6,  7,  8,  9, 10])"
      ]
     },
     "execution_count": 9,
     "metadata": {},
     "output_type": "execute_result"
    }
   ],
   "source": [
    "a"
   ]
  },
  {
   "cell_type": "code",
   "execution_count": 10,
   "id": "0315890e-6d76-4fc0-aff7-ea5bfdb9948f",
   "metadata": {},
   "outputs": [
    {
     "data": {
      "text/plain": [
       "array([-1,  0,  1,  2,  3,  4,  5,  6,  7,  8])"
      ]
     },
     "execution_count": 10,
     "metadata": {},
     "output_type": "execute_result"
    }
   ],
   "source": [
    "a-2"
   ]
  },
  {
   "cell_type": "code",
   "execution_count": 11,
   "id": "40ca58c8-4e24-457d-b57a-8dd65b70316b",
   "metadata": {},
   "outputs": [
    {
     "data": {
      "text/plain": [
       "array([ 1,  2,  3,  4,  5,  6,  7,  8,  9, 10])"
      ]
     },
     "execution_count": 11,
     "metadata": {},
     "output_type": "execute_result"
    }
   ],
   "source": [
    "a"
   ]
  },
  {
   "cell_type": "code",
   "execution_count": 12,
   "id": "345bf9e2-a2b7-44d7-8a9b-54b57aaa7a21",
   "metadata": {},
   "outputs": [
    {
     "data": {
      "text/plain": [
       "array([0.1, 0.2, 0.3, 0.4, 0.5, 0.6, 0.7, 0.8, 0.9, 1. ])"
      ]
     },
     "execution_count": 12,
     "metadata": {},
     "output_type": "execute_result"
    }
   ],
   "source": [
    "a/10"
   ]
  },
  {
   "cell_type": "code",
   "execution_count": 13,
   "id": "488b0b1a-3c11-4b10-b6de-1416282ef29c",
   "metadata": {},
   "outputs": [
    {
     "data": {
      "text/plain": [
       "array([0.5, 1. , 1.5, 2. , 2.5, 3. , 3.5, 4. , 4.5, 5. ])"
      ]
     },
     "execution_count": 13,
     "metadata": {},
     "output_type": "execute_result"
    }
   ],
   "source": [
    "a/2"
   ]
  },
  {
   "cell_type": "code",
   "execution_count": 14,
   "id": "9b088699-3a5a-4f91-b78e-df9109e4c87c",
   "metadata": {},
   "outputs": [
    {
     "data": {
      "text/plain": [
       "array([ 1,  2,  3,  4,  5,  6,  7,  8,  9, 10])"
      ]
     },
     "execution_count": 14,
     "metadata": {},
     "output_type": "execute_result"
    }
   ],
   "source": [
    "a"
   ]
  },
  {
   "cell_type": "code",
   "execution_count": null,
   "id": "b9abcc0d-b33a-4cb8-b2eb-a1ce9ca61135",
   "metadata": {},
   "outputs": [],
   "source": [
    "vactorixation with comparison operators "
   ]
  },
  {
   "cell_type": "code",
   "execution_count": 15,
   "id": "c1abcd02-fec2-42b8-910c-5c6b324974a0",
   "metadata": {},
   "outputs": [
    {
     "data": {
      "text/plain": [
       "False"
      ]
     },
     "execution_count": 15,
     "metadata": {},
     "output_type": "execute_result"
    }
   ],
   "source": [
    "3>4"
   ]
  },
  {
   "cell_type": "code",
   "execution_count": 16,
   "id": "1f5b0824-5bb8-4cfb-8aa0-2968bc0d9b7e",
   "metadata": {},
   "outputs": [
    {
     "data": {
      "text/plain": [
       "array([False, False, False, False,  True,  True,  True,  True,  True,\n",
       "        True])"
      ]
     },
     "execution_count": 16,
     "metadata": {},
     "output_type": "execute_result"
    }
   ],
   "source": [
    "a>4"
   ]
  },
  {
   "cell_type": "code",
   "execution_count": 17,
   "id": "03e3ffbe-ec80-41a7-b8aa-8d6d8399df6d",
   "metadata": {},
   "outputs": [
    {
     "data": {
      "text/plain": [
       "array([ 1,  2,  3,  4,  5,  6,  7,  8,  9, 10])"
      ]
     },
     "execution_count": 17,
     "metadata": {},
     "output_type": "execute_result"
    }
   ],
   "source": [
    "a"
   ]
  },
  {
   "cell_type": "code",
   "execution_count": 18,
   "id": "5d48750f-69c5-4ed6-bc84-fc7c44dfe09b",
   "metadata": {},
   "outputs": [
    {
     "data": {
      "text/plain": [
       "array([False,  True, False,  True, False,  True, False,  True, False,\n",
       "        True])"
      ]
     },
     "execution_count": 18,
     "metadata": {},
     "output_type": "execute_result"
    }
   ],
   "source": [
    "a%2==0"
   ]
  },
  {
   "cell_type": "markdown",
   "id": "82d26dba-ece2-4884-9851-3a91804fd708",
   "metadata": {},
   "source": [
    "### masking"
   ]
  },
  {
   "cell_type": "code",
   "execution_count": null,
   "id": "627c07e6-1741-437e-9d3c-7e7c5e44e6ae",
   "metadata": {},
   "outputs": [],
   "source": [
    "packing--> to get the output of true or false value to actual value "
   ]
  },
  {
   "cell_type": "code",
   "execution_count": 19,
   "id": "d7fda8ab-aafe-4de5-8941-d34c467ebf29",
   "metadata": {},
   "outputs": [
    {
     "data": {
      "text/plain": [
       "array([ 1,  2,  3,  4,  5,  6,  7,  8,  9, 10])"
      ]
     },
     "execution_count": 19,
     "metadata": {},
     "output_type": "execute_result"
    }
   ],
   "source": [
    "a"
   ]
  },
  {
   "cell_type": "code",
   "execution_count": null,
   "id": "70f2c67b-1684-4ba0-9d03-87b52b20f58c",
   "metadata": {},
   "outputs": [],
   "source": [
    "#what are all those numbers which are greter than 4 "
   ]
  },
  {
   "cell_type": "code",
   "execution_count": 20,
   "id": "04bb1e9c-6bee-4189-ade1-e358b9e0aa14",
   "metadata": {},
   "outputs": [
    {
     "data": {
      "text/plain": [
       "array([False, False, False, False,  True,  True,  True,  True,  True,\n",
       "        True])"
      ]
     },
     "execution_count": 20,
     "metadata": {},
     "output_type": "execute_result"
    }
   ],
   "source": [
    "a>4\n"
   ]
  },
  {
   "cell_type": "code",
   "execution_count": 24,
   "id": "e1c03bef-f305-4409-92f1-e55acd9fe0c9",
   "metadata": {},
   "outputs": [
    {
     "data": {
      "text/plain": [
       "array([ 5,  6,  7,  8,  9, 10])"
      ]
     },
     "execution_count": 24,
     "metadata": {},
     "output_type": "execute_result"
    }
   ],
   "source": [
    "mask=a>4\n",
    "a[mask]"
   ]
  },
  {
   "cell_type": "code",
   "execution_count": 25,
   "id": "7737cd52-7317-472e-ae6d-f6400e64ba8d",
   "metadata": {},
   "outputs": [
    {
     "data": {
      "text/plain": [
       "array([False,  True, False,  True, False,  True, False,  True, False,\n",
       "        True])"
      ]
     },
     "execution_count": 25,
     "metadata": {},
     "output_type": "execute_result"
    }
   ],
   "source": [
    "a%2==0"
   ]
  },
  {
   "cell_type": "code",
   "execution_count": 26,
   "id": "e6387629-3655-446e-95a4-84f7ce6dd271",
   "metadata": {},
   "outputs": [
    {
     "data": {
      "text/plain": [
       "array([ 2,  4,  6,  8, 10])"
      ]
     },
     "execution_count": 26,
     "metadata": {},
     "output_type": "execute_result"
    }
   ],
   "source": [
    "mask=a%2==0\n",
    "a[mask]"
   ]
  },
  {
   "cell_type": "markdown",
   "id": "aece7207-5946-49ef-beae-20c00c2a459a",
   "metadata": {},
   "source": [
    "##vectorisation with comparision operators will give you the boolean value i.e TRue or False \n",
    "##Masking will give youthe actual value for which the condition is true "
   ]
  },
  {
   "cell_type": "code",
   "execution_count": 27,
   "id": "a45ea7da-3618-4de4-af08-9b2eb11f4d0b",
   "metadata": {},
   "outputs": [],
   "source": [
    "###selction of array"
   ]
  },
  {
   "cell_type": "code",
   "execution_count": 28,
   "id": "fe7a0a2d-2495-4c1d-b240-38bd22aa2a74",
   "metadata": {},
   "outputs": [],
   "source": [
    "names=np.array([\"jay\",\"raj\",\"jay\",\"kumar\",\"mrityunjay\",\"kumar\",\"jay\",\"rohit\",\"suraj\",\"rvi\"])"
   ]
  },
  {
   "cell_type": "code",
   "execution_count": 29,
   "id": "47f4a9ab-a246-4ce3-ab10-16f56723b134",
   "metadata": {},
   "outputs": [
    {
     "data": {
      "text/plain": [
       "array([ True, False,  True, False, False, False,  True, False, False,\n",
       "       False])"
      ]
     },
     "execution_count": 29,
     "metadata": {},
     "output_type": "execute_result"
    }
   ],
   "source": [
    "#select all the names where the value is jay \n",
    "names ==\"jay\""
   ]
  },
  {
   "cell_type": "code",
   "execution_count": 30,
   "id": "1c27244f-d3c3-4573-8e8f-5ea037e47097",
   "metadata": {},
   "outputs": [],
   "source": [
    "mask=names==\"jay\""
   ]
  },
  {
   "cell_type": "code",
   "execution_count": 31,
   "id": "901b7365-5b92-43b9-951f-335bece1f8cb",
   "metadata": {},
   "outputs": [
    {
     "data": {
      "text/plain": [
       "array(['jay', 'jay', 'jay'], dtype='<U10')"
      ]
     },
     "execution_count": 31,
     "metadata": {},
     "output_type": "execute_result"
    }
   ],
   "source": [
    "names[mask]"
   ]
  },
  {
   "cell_type": "code",
   "execution_count": 32,
   "id": "c164df41-fcf5-4b4b-a74f-34c0550a4543",
   "metadata": {},
   "outputs": [
    {
     "data": {
      "text/plain": [
       "array(['jay', 'jay', 'jay'], dtype='<U10')"
      ]
     },
     "execution_count": 32,
     "metadata": {},
     "output_type": "execute_result"
    }
   ],
   "source": [
    "names[names==\"jay\"]"
   ]
  },
  {
   "cell_type": "code",
   "execution_count": null,
   "id": "6d59ef5c-5422-410e-939e-28495d2be093",
   "metadata": {},
   "outputs": [],
   "source": [
    "#select all the names where the values is not jay "
   ]
  },
  {
   "cell_type": "code",
   "execution_count": 33,
   "id": "977fa955-9443-4a77-ad2d-45888d7fc5cc",
   "metadata": {},
   "outputs": [
    {
     "data": {
      "text/plain": [
       "array(['raj', 'kumar', 'mrityunjay', 'kumar', 'rohit', 'suraj', 'rvi'],\n",
       "      dtype='<U10')"
      ]
     },
     "execution_count": 33,
     "metadata": {},
     "output_type": "execute_result"
    }
   ],
   "source": [
    "names[names!=\"jay\"]"
   ]
  },
  {
   "cell_type": "code",
   "execution_count": 36,
   "id": "dcb06a93-79b6-47b5-b32f-652fdd947cbd",
   "metadata": {},
   "outputs": [
    {
     "data": {
      "text/plain": [
       "array(['jay', 'raj', 'jay', 'kumar', 'mrityunjay', 'kumar', 'jay',\n",
       "       'rohit', 'suraj', 'rvi'], dtype='<U10')"
      ]
     },
     "execution_count": 36,
     "metadata": {},
     "output_type": "execute_result"
    }
   ],
   "source": [
    "import numpy as np \n",
    "names"
   ]
  },
  {
   "cell_type": "code",
   "execution_count": 38,
   "id": "40a426ce-bd43-42e0-90ee-987652d59b08",
   "metadata": {},
   "outputs": [
    {
     "data": {
      "text/plain": [
       "array([False,  True, False,  True,  True,  True, False,  True,  True,\n",
       "        True])"
      ]
     },
     "execution_count": 38,
     "metadata": {},
     "output_type": "execute_result"
    }
   ],
   "source": [
    "#select all the names execept jay and kumar \n",
    "cond1=(names!=\"jay\")\n",
    "cond2=(names!=\"kumar\")\n",
    "cond1"
   ]
  },
  {
   "cell_type": "code",
   "execution_count": 39,
   "id": "e4bd2d7a-c2a7-440e-ad48-34ef5ef2ac8a",
   "metadata": {},
   "outputs": [
    {
     "data": {
      "text/plain": [
       "array([ True,  True,  True, False,  True, False,  True,  True,  True,\n",
       "        True])"
      ]
     },
     "execution_count": 39,
     "metadata": {},
     "output_type": "execute_result"
    }
   ],
   "source": [
    "cond2"
   ]
  },
  {
   "cell_type": "code",
   "execution_count": 40,
   "id": "b6fb9c16-c622-4f40-90c1-93b36cb97bd4",
   "metadata": {},
   "outputs": [
    {
     "data": {
      "text/plain": [
       "array([False,  True, False, False,  True, False, False,  True,  True,\n",
       "        True])"
      ]
     },
     "execution_count": 40,
     "metadata": {},
     "output_type": "execute_result"
    }
   ],
   "source": [
    "cond1 & cond2"
   ]
  },
  {
   "cell_type": "code",
   "execution_count": 41,
   "id": "2518cdce-b918-46d5-a7a0-59076ad84a48",
   "metadata": {},
   "outputs": [
    {
     "data": {
      "text/plain": [
       "array(['raj', 'mrityunjay', 'rohit', 'suraj', 'rvi'], dtype='<U10')"
      ]
     },
     "execution_count": 41,
     "metadata": {},
     "output_type": "execute_result"
    }
   ],
   "source": [
    "names[cond1 & cond2]"
   ]
  },
  {
   "cell_type": "code",
   "execution_count": 42,
   "id": "d9b87001-8712-42e8-9c9e-2bb249c99324",
   "metadata": {},
   "outputs": [
    {
     "data": {
      "text/plain": [
       "array(['raj', 'mrityunjay', 'rohit', 'suraj', 'rvi'], dtype='<U10')"
      ]
     },
     "execution_count": 42,
     "metadata": {},
     "output_type": "execute_result"
    }
   ],
   "source": [
    "names[(names!=\"jay\")&(names!=\"kumar\")]"
   ]
  },
  {
   "cell_type": "code",
   "execution_count": 44,
   "id": "2a9b0041-f46c-4bee-9461-ce20f5fa29e6",
   "metadata": {},
   "outputs": [
    {
     "data": {
      "text/plain": [
       "array([ True,  True,  True,  True, False,  True,  True,  True,  True,\n",
       "        True])"
      ]
     },
     "execution_count": 44,
     "metadata": {},
     "output_type": "execute_result"
    }
   ],
   "source": [
    "#select all those names where name is not mrityunjay and assign then as shiv \n",
    "#step 1 \n",
    "names!=\"mrityunjay\""
   ]
  },
  {
   "cell_type": "code",
   "execution_count": 45,
   "id": "42a25d54-69e1-4500-8c9b-3904c160d22c",
   "metadata": {},
   "outputs": [
    {
     "data": {
      "text/plain": [
       "array(['jay', 'raj', 'jay', 'kumar', 'kumar', 'jay', 'rohit', 'suraj',\n",
       "       'rvi'], dtype='<U10')"
      ]
     },
     "execution_count": 45,
     "metadata": {},
     "output_type": "execute_result"
    }
   ],
   "source": [
    "names[names!=\"mrityunjay\"]"
   ]
  },
  {
   "cell_type": "code",
   "execution_count": 48,
   "id": "0178951f-8f00-4296-90b6-fb0b11f27c62",
   "metadata": {},
   "outputs": [
    {
     "data": {
      "text/plain": [
       "array(['shiv', 'shiv', 'shiv', 'shiv', 'mrityunjay', 'shiv', 'shiv',\n",
       "       'shiv', 'shiv', 'shiv'], dtype='<U10')"
      ]
     },
     "execution_count": 48,
     "metadata": {},
     "output_type": "execute_result"
    }
   ],
   "source": [
    "names[names!=\"mrityunjay\"]= \"shiv\"\n",
    "names"
   ]
  },
  {
   "cell_type": "code",
   "execution_count": 49,
   "id": "f8c4b0f9-8f78-48f7-a28e-54b790610d94",
   "metadata": {},
   "outputs": [
    {
     "data": {
      "text/plain": [
       "array(['mrityunjay', 'shiv'], dtype='<U10')"
      ]
     },
     "execution_count": 49,
     "metadata": {},
     "output_type": "execute_result"
    }
   ],
   "source": [
    "np.unique(names)"
   ]
  },
  {
   "cell_type": "code",
   "execution_count": null,
   "id": "eb331eee-097a-4738-872d-cbde7d997493",
   "metadata": {},
   "outputs": [],
   "source": []
  },
  {
   "cell_type": "code",
   "execution_count": null,
   "id": "55b67c45-3c80-4320-822c-51d751d75d6b",
   "metadata": {},
   "outputs": [],
   "source": []
  },
  {
   "cell_type": "code",
   "execution_count": null,
   "id": "6c26aa99-7bdb-4edb-b466-8fc1e24578dd",
   "metadata": {},
   "outputs": [],
   "source": []
  },
  {
   "cell_type": "code",
   "execution_count": null,
   "id": "2a31564d-face-4aa2-baea-ee76294aaf38",
   "metadata": {},
   "outputs": [],
   "source": []
  },
  {
   "cell_type": "code",
   "execution_count": null,
   "id": "104d8187-4395-4d07-b8f7-90b4a2241bd1",
   "metadata": {},
   "outputs": [],
   "source": []
  },
  {
   "cell_type": "code",
   "execution_count": null,
   "id": "a770cbe1-a642-45be-b6e9-d1998cd3915f",
   "metadata": {},
   "outputs": [],
   "source": []
  },
  {
   "cell_type": "code",
   "execution_count": null,
   "id": "3af98700-4042-4bed-b42c-22d05e4290a9",
   "metadata": {},
   "outputs": [],
   "source": []
  },
  {
   "cell_type": "code",
   "execution_count": null,
   "id": "555d593b-1b2c-420f-964a-559d78e5bd8a",
   "metadata": {},
   "outputs": [],
   "source": []
  },
  {
   "cell_type": "code",
   "execution_count": null,
   "id": "4d123b75-fc56-4da8-8f8a-0f81a1d277b5",
   "metadata": {},
   "outputs": [],
   "source": []
  },
  {
   "cell_type": "code",
   "execution_count": null,
   "id": "c3a7be0d-9cbb-4d7c-af0a-16e587e823f1",
   "metadata": {},
   "outputs": [],
   "source": []
  },
  {
   "cell_type": "code",
   "execution_count": null,
   "id": "de70d581-88dc-43b7-a518-2e563aa0b845",
   "metadata": {},
   "outputs": [],
   "source": []
  },
  {
   "cell_type": "code",
   "execution_count": null,
   "id": "7f81fae9-7cf0-407d-8b7a-a33824949ad5",
   "metadata": {},
   "outputs": [],
   "source": []
  },
  {
   "cell_type": "code",
   "execution_count": null,
   "id": "9751dbb0-9ce6-4aec-9235-bce452b5942d",
   "metadata": {},
   "outputs": [],
   "source": []
  },
  {
   "cell_type": "code",
   "execution_count": null,
   "id": "fb2acad0-c157-4684-8c92-cb65e9b55c7f",
   "metadata": {},
   "outputs": [],
   "source": []
  },
  {
   "cell_type": "code",
   "execution_count": null,
   "id": "ea991418-b26a-49a2-848e-c7f14295d491",
   "metadata": {},
   "outputs": [],
   "source": []
  },
  {
   "cell_type": "code",
   "execution_count": null,
   "id": "5f44dea3-bc9f-4609-b6b4-3c36f2ed3fa8",
   "metadata": {},
   "outputs": [],
   "source": []
  },
  {
   "cell_type": "code",
   "execution_count": null,
   "id": "33d1f476-d016-4194-a81b-8b544d1b1c63",
   "metadata": {},
   "outputs": [],
   "source": []
  },
  {
   "cell_type": "code",
   "execution_count": null,
   "id": "40cb5532-0a27-4850-9ab9-e88ec078faf4",
   "metadata": {},
   "outputs": [],
   "source": []
  },
  {
   "cell_type": "code",
   "execution_count": null,
   "id": "73da9236-9dd4-4897-99f6-6cc7d9ef145d",
   "metadata": {},
   "outputs": [],
   "source": []
  },
  {
   "cell_type": "code",
   "execution_count": null,
   "id": "2c0786d6-ce93-401a-987a-4a693ac2bfd7",
   "metadata": {},
   "outputs": [],
   "source": []
  },
  {
   "cell_type": "code",
   "execution_count": null,
   "id": "2f5ede9f-8a01-4f27-9ac2-94987855d085",
   "metadata": {},
   "outputs": [],
   "source": []
  },
  {
   "cell_type": "code",
   "execution_count": null,
   "id": "908be591-0853-4367-b29e-42f4aa2d1ae0",
   "metadata": {},
   "outputs": [],
   "source": []
  },
  {
   "cell_type": "code",
   "execution_count": null,
   "id": "dd007162-b00c-407e-b1cd-36e8e3c83845",
   "metadata": {},
   "outputs": [],
   "source": []
  },
  {
   "cell_type": "code",
   "execution_count": null,
   "id": "bc47018a-870b-4524-9d9c-dc9abcb04f74",
   "metadata": {},
   "outputs": [],
   "source": []
  },
  {
   "cell_type": "code",
   "execution_count": null,
   "id": "3d852c93-42ba-4010-96e2-e0f214c464d2",
   "metadata": {},
   "outputs": [],
   "source": []
  },
  {
   "cell_type": "code",
   "execution_count": null,
   "id": "7ffb46c3-f0c7-40ce-8438-adf02b681d9c",
   "metadata": {},
   "outputs": [],
   "source": []
  },
  {
   "cell_type": "code",
   "execution_count": null,
   "id": "bf582309-c488-4c3b-94c3-28d61bbe4ebc",
   "metadata": {},
   "outputs": [],
   "source": []
  },
  {
   "cell_type": "code",
   "execution_count": null,
   "id": "a733e26c-81dd-43a3-917b-374d3787c8f9",
   "metadata": {},
   "outputs": [],
   "source": []
  },
  {
   "cell_type": "code",
   "execution_count": null,
   "id": "646256c5-7365-41d6-abcc-70fe77f3ff3c",
   "metadata": {},
   "outputs": [],
   "source": []
  },
  {
   "cell_type": "code",
   "execution_count": null,
   "id": "75982684-28d1-4564-9037-c916d8d00011",
   "metadata": {},
   "outputs": [],
   "source": []
  },
  {
   "cell_type": "code",
   "execution_count": null,
   "id": "3df2fb59-d932-4db6-87a0-18308dc51de5",
   "metadata": {},
   "outputs": [],
   "source": []
  },
  {
   "cell_type": "code",
   "execution_count": null,
   "id": "9c10cbf5-9a67-4c3a-bebf-a7e68a385e7b",
   "metadata": {},
   "outputs": [],
   "source": []
  },
  {
   "cell_type": "code",
   "execution_count": null,
   "id": "52d13739-8bbb-45d3-9d4a-cc5d6b45e379",
   "metadata": {},
   "outputs": [],
   "source": []
  },
  {
   "cell_type": "code",
   "execution_count": null,
   "id": "14878209-8cf8-4cba-8145-3ccfe33f3e34",
   "metadata": {},
   "outputs": [],
   "source": []
  },
  {
   "cell_type": "code",
   "execution_count": null,
   "id": "d5621cce-9fbe-46d2-a39b-f664bae47fd7",
   "metadata": {},
   "outputs": [],
   "source": []
  },
  {
   "cell_type": "code",
   "execution_count": null,
   "id": "2f076089-86f3-4a1d-b074-342a1d2743e8",
   "metadata": {},
   "outputs": [],
   "source": []
  },
  {
   "cell_type": "code",
   "execution_count": null,
   "id": "5d74e65f-8f19-44ec-ad2a-cb6b34ba9249",
   "metadata": {},
   "outputs": [],
   "source": []
  },
  {
   "cell_type": "code",
   "execution_count": null,
   "id": "fa9b7bab-6e11-4ee9-a7d7-ef6cad8a1a45",
   "metadata": {},
   "outputs": [],
   "source": []
  },
  {
   "cell_type": "code",
   "execution_count": null,
   "id": "a562c2d7-6356-47ba-9c62-d8f49669ce54",
   "metadata": {},
   "outputs": [],
   "source": []
  },
  {
   "cell_type": "code",
   "execution_count": null,
   "id": "3ae83f82-4e90-4c5c-bf6f-a1d5709a22dd",
   "metadata": {},
   "outputs": [],
   "source": []
  },
  {
   "cell_type": "code",
   "execution_count": null,
   "id": "e9170d64-29ac-4353-876d-5c9a107c3b95",
   "metadata": {},
   "outputs": [],
   "source": []
  },
  {
   "cell_type": "code",
   "execution_count": null,
   "id": "041a74de-7472-4b91-9b58-e0d9ba55bcfe",
   "metadata": {},
   "outputs": [],
   "source": []
  },
  {
   "cell_type": "code",
   "execution_count": null,
   "id": "bbe58ecf-65e3-4f7e-bf51-81fa381ce8a9",
   "metadata": {},
   "outputs": [],
   "source": []
  },
  {
   "cell_type": "code",
   "execution_count": null,
   "id": "74aa2df1-cf1a-419e-8a9e-22dc73005dda",
   "metadata": {},
   "outputs": [],
   "source": []
  },
  {
   "cell_type": "code",
   "execution_count": null,
   "id": "99fe5dea-f654-4d6c-a57e-e86b0e6fc272",
   "metadata": {},
   "outputs": [],
   "source": []
  },
  {
   "cell_type": "code",
   "execution_count": null,
   "id": "0e99e85f-0ad3-4147-b484-1293d04526c7",
   "metadata": {},
   "outputs": [],
   "source": []
  },
  {
   "cell_type": "code",
   "execution_count": null,
   "id": "fdae787f-f75b-4df5-9ffd-b1f57d110a0d",
   "metadata": {},
   "outputs": [],
   "source": []
  },
  {
   "cell_type": "code",
   "execution_count": null,
   "id": "255d1596-8935-4281-871d-c4cba8028de9",
   "metadata": {},
   "outputs": [],
   "source": []
  },
  {
   "cell_type": "code",
   "execution_count": null,
   "id": "940d7a58-9695-4c0f-85de-64833a56acb7",
   "metadata": {},
   "outputs": [],
   "source": []
  },
  {
   "cell_type": "code",
   "execution_count": null,
   "id": "c01b69cc-15a7-49c6-b349-d5c3750fcb57",
   "metadata": {},
   "outputs": [],
   "source": []
  },
  {
   "cell_type": "code",
   "execution_count": null,
   "id": "0ccb42c7-bc75-4391-a32b-105368a15203",
   "metadata": {},
   "outputs": [],
   "source": []
  },
  {
   "cell_type": "code",
   "execution_count": null,
   "id": "6d57423c-7ba0-4eac-95fc-4d63525fe673",
   "metadata": {},
   "outputs": [],
   "source": []
  }
 ],
 "metadata": {
  "kernelspec": {
   "display_name": "Python 3 (ipykernel)",
   "language": "python",
   "name": "python3"
  },
  "language_info": {
   "codemirror_mode": {
    "name": "ipython",
    "version": 3
   },
   "file_extension": ".py",
   "mimetype": "text/x-python",
   "name": "python",
   "nbconvert_exporter": "python",
   "pygments_lexer": "ipython3",
   "version": "3.11.9"
  }
 },
 "nbformat": 4,
 "nbformat_minor": 5
}
